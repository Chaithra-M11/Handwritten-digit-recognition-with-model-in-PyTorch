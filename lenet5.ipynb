{
 "cells": [
  {
   "cell_type": "code",
   "execution_count": 1,
   "metadata": {},
   "outputs": [
    {
     "name": "stderr",
     "output_type": "stream",
     "text": [
      "C:\\Users\\Chaithra M\\AppData\\Roaming\\Python\\Python311\\site-packages\\pandas\\core\\arrays\\masked.py:60: UserWarning: Pandas requires version '1.3.6' or newer of 'bottleneck' (version '1.3.5' currently installed).\n",
      "  from pandas.core import (\n"
     ]
    }
   ],
   "source": [
    "import numpy as np\n",
    "import pandas as pd\n",
    "import tensorflow as tf\n",
    "from tensorflow.keras.preprocessing.image import ImageDataGenerator\n",
    "import matplotlib.pyplot as plt\n",
    "\n",
    "# Load the CSV files\n",
    "train_data = pd.read_csv(r\"C:\\Users\\Chaithra M\\Downloads\\mnist_train\\mnist_train.csv\")\n",
    "test_data = pd.read_csv(r\"C:\\Users\\Chaithra M\\Downloads\\mnist_test\\mnist_test.csv\")"
   ]
  },
  {
   "cell_type": "code",
   "execution_count": 2,
   "metadata": {},
   "outputs": [],
   "source": [
    "# Separate features and labels\n",
    "x_train = train_data.drop('label', axis=1).values\n",
    "y_train = train_data['label'].values\n",
    "\n",
    "x_test = test_data.drop('label', axis=1).values\n",
    "y_test = test_data['label'].values"
   ]
  },
  {
   "cell_type": "code",
   "execution_count": 3,
   "metadata": {},
   "outputs": [],
   "source": [
    "# Reshape the data to its original shape (28x28)\n",
    "x_train = x_train.reshape(-1, 28, 28, 1)\n",
    "x_test = x_test.reshape(-1, 28, 28, 1)\n",
    "\n",
    "# Normalize the pixel values to range [0, 1]\n",
    "x_train = x_train.astype('float32') / 255.0\n",
    "x_test = x_test.astype('float32') / 255.0"
   ]
  },
  {
   "cell_type": "code",
   "execution_count": 4,
   "metadata": {},
   "outputs": [],
   "source": [
    "# Define the data augmentation generator\n",
    "datagen = ImageDataGenerator(\n",
    "    rotation_range=10,\n",
    "    zoom_range=0.1,\n",
    "    width_shift_range=0.1,\n",
    "    height_shift_range=0.1,\n",
    "    shear_range=0.1,\n",
    "    fill_mode='nearest'\n",
    ")\n",
    "\n",
    "# Fit the data generator on the training data\n",
    "datagen.fit(x_train)"
   ]
  },
  {
   "cell_type": "code",
   "execution_count": 5,
   "metadata": {},
   "outputs": [],
   "source": [
    "# Generate augmented images for each image in the training dataset\n",
    "augmented_images = []\n",
    "augmented_labels = []\n",
    "for i in range(len(x_train)):\n",
    "    x = x_train[i].reshape((1, 28, 28, 1))\n",
    "    y = y_train[i]\n",
    "    it = datagen.flow(x, batch_size=1)\n",
    "    for _ in range(5):  # Generate 5 augmented images per original image\n",
    "        batch = next(it)\n",
    "        augmented_images.append(batch[0])\n",
    "        augmented_labels.append(y)\n",
    "\n",
    "# Convert y_train to numpy array\n",
    "augmented_labels = np.array(augmented_labels)\n",
    "\n",
    "# Combine original and augmented data\n",
    "x_train_augmented = np.concatenate((x_train, augmented_images))\n",
    "y_train_augmented = np.concatenate((y_train, augmented_labels))"
   ]
  },
  {
   "cell_type": "code",
   "execution_count": 6,
   "metadata": {},
   "outputs": [],
   "source": [
    "# One-hot encode the labels\n",
    "y_train_augmented = tf.keras.utils.to_categorical(y_train_augmented, 10)\n",
    "y_test = tf.keras.utils.to_categorical(y_test, 10)"
   ]
  },
  {
   "cell_type": "code",
   "execution_count": 7,
   "metadata": {},
   "outputs": [],
   "source": [
    "# Define the LeNet-5 model architecture\n",
    "def build_lenet(input_shape):\n",
    "    # Define Sequential Model\n",
    "    model = tf.keras.Sequential()\n",
    "\n",
    "    # C1 Convolution Layer\n",
    "    model.add(tf.keras.layers.Conv2D(filters=6, kernel_size=(5, 5), activation='tanh', input_shape=input_shape))\n",
    "\n",
    "    # S2 SubSampling Layer\n",
    "    model.add(tf.keras.layers.AveragePooling2D(pool_size=(2, 2), strides=(2, 2)))\n",
    "\n",
    "    # C3 Convolution Layer\n",
    "    model.add(tf.keras.layers.Conv2D(filters=16, kernel_size=(5, 5), activation='tanh'))\n",
    "\n",
    "    # S4 SubSampling Layer\n",
    "    model.add(tf.keras.layers.AveragePooling2D(pool_size=(2, 2), strides=(2, 2)))\n",
    "\n",
    "    # Flatten the output so that we can connect it with the fully connected layers by converting it into a 1D Array\n",
    "    model.add(tf.keras.layers.Flatten())\n",
    "\n",
    "    # C5 Fully Connected Layer\n",
    "    model.add(tf.keras.layers.Dense(units=120, activation='tanh'))\n",
    "\n",
    "    # FC6 Fully Connected Layer\n",
    "    model.add(tf.keras.layers.Dense(units=84, activation='tanh'))\n",
    "\n",
    "    # Output Layer\n",
    "    model.add(tf.keras.layers.Dense(units=10, activation='softmax'))\n",
    "\n",
    "    # Compile the Model\n",
    "    model.compile(loss='categorical_crossentropy', optimizer=tf.keras.optimizers.SGD(learning_rate=0.1, momentum=0.0, decay=0.0), metrics=['accuracy'])\n",
    "\n",
    "    return model"
   ]
  },
  {
   "cell_type": "code",
   "execution_count": 8,
   "metadata": {},
   "outputs": [
    {
     "name": "stderr",
     "output_type": "stream",
     "text": [
      "C:\\Users\\Chaithra M\\AppData\\Roaming\\Python\\Python311\\site-packages\\keras\\src\\layers\\convolutional\\base_conv.py:107: UserWarning: Do not pass an `input_shape`/`input_dim` argument to a layer. When using Sequential models, prefer using an `Input(shape)` object as the first layer in the model instead.\n",
      "  super().__init__(activity_regularizer=activity_regularizer, **kwargs)\n",
      "C:\\Users\\Chaithra M\\AppData\\Roaming\\Python\\Python311\\site-packages\\keras\\src\\optimizers\\base_optimizer.py:33: UserWarning: Argument `decay` is no longer supported and will be ignored.\n",
      "  warnings.warn(\n"
     ]
    }
   ],
   "source": [
    "# Build and compile the LeNet-5 model\n",
    "model = build_lenet(input_shape=(28, 28, 1))"
   ]
  },
  {
   "cell_type": "code",
   "execution_count": 9,
   "metadata": {},
   "outputs": [
    {
     "name": "stdout",
     "output_type": "stream",
     "text": [
      "Epoch 1/5\n",
      "\u001b[1m2813/2813\u001b[0m \u001b[32m━━━━━━━━━━━━━━━━━━━━\u001b[0m\u001b[37m\u001b[0m \u001b[1m23s\u001b[0m 8ms/step - accuracy: 0.8339 - loss: 0.5334 - val_accuracy: 0.9806 - val_loss: 0.0571\n",
      "Epoch 2/5\n",
      "\u001b[1m2813/2813\u001b[0m \u001b[32m━━━━━━━━━━━━━━━━━━━━\u001b[0m\u001b[37m\u001b[0m \u001b[1m40s\u001b[0m 7ms/step - accuracy: 0.9738 - loss: 0.0840 - val_accuracy: 0.9862 - val_loss: 0.0404\n",
      "Epoch 3/5\n",
      "\u001b[1m2813/2813\u001b[0m \u001b[32m━━━━━━━━━━━━━━━━━━━━\u001b[0m\u001b[37m\u001b[0m \u001b[1m22s\u001b[0m 8ms/step - accuracy: 0.9815 - loss: 0.0594 - val_accuracy: 0.9911 - val_loss: 0.0276\n",
      "Epoch 4/5\n",
      "\u001b[1m2813/2813\u001b[0m \u001b[32m━━━━━━━━━━━━━━━━━━━━\u001b[0m\u001b[37m\u001b[0m \u001b[1m21s\u001b[0m 7ms/step - accuracy: 0.9853 - loss: 0.0464 - val_accuracy: 0.9909 - val_loss: 0.0267\n",
      "Epoch 5/5\n",
      "\u001b[1m2813/2813\u001b[0m \u001b[32m━━━━━━━━━━━━━━━━━━━━\u001b[0m\u001b[37m\u001b[0m \u001b[1m21s\u001b[0m 7ms/step - accuracy: 0.9871 - loss: 0.0407 - val_accuracy: 0.9906 - val_loss: 0.0275\n"
     ]
    }
   ],
   "source": [
    "# Train the model\n",
    "history = model.fit(x_train_augmented, y_train_augmented, epochs=5, validation_data=(x_test, y_test), batch_size=128)"
   ]
  },
  {
   "cell_type": "code",
   "execution_count": 10,
   "metadata": {},
   "outputs": [
    {
     "name": "stdout",
     "output_type": "stream",
     "text": [
      "313/313 - 1s - 2ms/step - accuracy: 0.9906 - loss: 0.0275\n",
      "Test accuracy: 0.9905999898910522\n"
     ]
    }
   ],
   "source": [
    "\n",
    "# Evaluate the model\n",
    "test_loss, test_acc = model.evaluate(x_test, y_test, verbose=2)\n",
    "print(f'Test accuracy: {test_acc}')"
   ]
  },
  {
   "cell_type": "code",
   "execution_count": 11,
   "metadata": {},
   "outputs": [
    {
     "data": {
      "image/png": "[encoded data removed]",
      "text/plain": [
       "<Figure size 640x480 with 1 Axes>"
      ]
     },
     "metadata": {},
     "output_type": "display_data"
    }
   ],
   "source": [
    "# Plot the training history\n",
    "plt.plot(history.history['accuracy'], label='accuracy')\n",
    "plt.plot(history.history['val_accuracy'], label='val_accuracy')\n",
    "plt.xlabel('Epoch')\n",
    "plt.ylabel('Accuracy')\n",
    "plt.ylim([0, 1])\n",
    "plt.legend(loc='lower right')\n",
    "plt.show()"
   ]
  },
  {
   "cell_type": "code",
   "execution_count": 13,
   "metadata": {},
   "outputs": [
    {
     "name": "stderr",
     "output_type": "stream",
     "text": [
      "WARNING:absl:You are saving your model as an HDF5 file via `model.save()` or `keras.saving.save_model(model)`. This file format is considered legacy. We recommend using instead the native Keras format, e.g. `model.save('my_model.keras')` or `keras.saving.save_model(model, 'my_model.keras')`. \n"
     ]
    }
   ],
   "source": [
    "# Save the trained model\n",
    "model.save('mnist_lenet_model.h5')"
   ]
  },
  {
   "cell_type": "code",
   "execution_count": null,
   "metadata": {},
   "outputs": [],
   "source": []
  }
 ],
 "metadata": {
  "kernelspec": {
   "display_name": "Python 3 (ipykernel)",
   "language": "python",
   "name": "python3"
  },
  "language_info": {
   "codemirror_mode": {
    "name": "ipython",
    "version": 3
   },
   "file_extension": ".py",
   "mimetype": "text/x-python",
   "name": "python",
   "nbconvert_exporter": "python",
   "pygments_lexer": "ipython3",
   "version": "3.11.4"
  }
 },
 "nbformat": 4,
 "nbformat_minor": 2
}
